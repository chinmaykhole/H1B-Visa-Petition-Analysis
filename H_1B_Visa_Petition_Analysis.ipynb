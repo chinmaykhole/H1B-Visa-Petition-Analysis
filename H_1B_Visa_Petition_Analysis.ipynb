{
 "cells": [
  {
   "cell_type": "markdown",
   "metadata": {
    "colab_type": "text",
    "id": "vY9dyoiaTIG6"
   },
   "source": [
    "H-1B Visa Petition Analysis\n",
    "\n",
    "Chinmay Khole-  RedID 823720476\t\n",
    "Ronak Bipin Thakkar-  RedID 824667630\n",
    "\n",
    "The links of the required data files for this project are explained in detail in the Readme.PDF under section 'Links for the data to download the processed files directly:' attached along with this notebook.\n"
   ]
  },
  {
   "cell_type": "code",
   "execution_count": 0,
   "metadata": {
    "colab": {},
    "colab_type": "code",
    "id": "ICJrQyJIRNnZ"
   },
   "outputs": [],
   "source": [
    "import pandas as pd\n",
    "import numpy as np\n",
    "import seaborn as sns\n",
    "import matplotlib.pyplot as plt\n",
    "from scipy.optimize import curve_fit\n",
    "folderPath = '/content/drive/My Drive/'\n",
    "excel2015 = folderPath + 'H-1B_Disclosure_Data_FY15_Q4.xlsx'\n",
    "excel2016 = folderPath + 'H-1B_Disclosure_Data_FY16.xlsx'\n",
    "excel2017 = folderPath + 'H-1B_Disclosure_Data_FY17.xlsx'\n",
    "excel2018 = folderPath + 'H-1B_Disclosure_Data_FY2018_EOY.xlsx'\n",
    "excel2019 = folderPath + 'H-1B_Disclosure_Data_FY2019.xlsx'\n",
    "csv2015 = folderPath + '2015.csv'\n",
    "csv2016 = folderPath + '2016.csv'\n",
    "csv2017 = folderPath + '2017.csv'\n",
    "csv2018 = folderPath + '2018.csv'\n",
    "csv2019 = folderPath + '2019.csv'\n",
    "csvOneDF = folderPath + 'OneDF.csv'\n",
    "pd.set_option('mode.chained_assignment', None)"
   ]
  },
  {
   "cell_type": "markdown",
   "metadata": {
    "colab_type": "text",
    "id": "pld312-H5XoX"
   },
   "source": [
    "Step 1: The data we got from the source website was an excel sheet. Pandas takes a lot of time to read the excel file and extract it to the dataframe. Also the excel file had many columns. We decided to work on a few columns. So, in this step we read the excel file, added year column for year wise analysis and only selected the columns that we want and saved it to csv format as pandas reads csv far more quickly than excel. (On local machine took 12 min. to read one excel file so for 5 such excel files it takes a lot of time and Google Collab took some 8-9 mins per file). If you want to skip this, you can directly refer to the csv files shared with this. "
   ]
  },
  {
   "cell_type": "code",
   "execution_count": 0,
   "metadata": {
    "colab": {},
    "colab_type": "code",
    "id": "AsCOQsvKRh_l"
   },
   "outputs": [],
   "source": [
    "df=pd.read_excel(excel2015)\n",
    "df[['WAGE_RATE_OF_PAY_FROM','WAGE_RATE_OF_PAY_TO']] = df.WAGE_RATE_OF_PAY.str.split('-',n=1,expand=True) \n",
    "df['Year']='2015'\n",
    "df = df.rename(columns={'H-1B_DEPENDENT': 'H1B_DEPENDENT','WILLFUL VIOLATOR':'WILLFUL_VIOLATOR'})\n",
    "df=df[['CASE_NUMBER','CASE_STATUS','VISA_CLASS','EMPLOYER_NAME','EMPLOYER_CITY','EMPLOYER_STATE','JOB_TITLE','SOC_CODE','SOC_NAME','FULL_TIME_POSITION','PREVAILING_WAGE','WAGE_RATE_OF_PAY_FROM','WAGE_RATE_OF_PAY_TO','WAGE_UNIT_OF_PAY','H1B_DEPENDENT','WILLFUL_VIOLATOR','Year']]\n",
    "df.to_csv(csv2015,index=False)"
   ]
  },
  {
   "cell_type": "code",
   "execution_count": 0,
   "metadata": {
    "colab": {},
    "colab_type": "code",
    "id": "_oUjA0c63SlA"
   },
   "outputs": [],
   "source": [
    "df=pd.read_excel(excel2016)\n",
    "df['Year']='2016'\n",
    "df = df.rename(columns={'H-1B_DEPENDENT': 'H1B_DEPENDENT'})\n",
    "df=df[['CASE_NUMBER','CASE_STATUS','VISA_CLASS','EMPLOYER_NAME','EMPLOYER_CITY','EMPLOYER_STATE','JOB_TITLE','SOC_CODE','SOC_NAME','FULL_TIME_POSITION','PREVAILING_WAGE','WAGE_RATE_OF_PAY_FROM','WAGE_RATE_OF_PAY_TO','WAGE_UNIT_OF_PAY','H1B_DEPENDENT','WILLFUL_VIOLATOR','Year']]\n",
    "df.to_csv(csv2016,index=False)"
   ]
  },
  {
   "cell_type": "code",
   "execution_count": 0,
   "metadata": {
    "colab": {},
    "colab_type": "code",
    "id": "fGfOsLm63Srd"
   },
   "outputs": [],
   "source": [
    "df=pd.read_excel(excel2017)\n",
    "df['Year']='2017'\n",
    "df=df[['CASE_NUMBER','CASE_STATUS','VISA_CLASS','EMPLOYER_NAME','EMPLOYER_CITY','EMPLOYER_STATE','JOB_TITLE','SOC_CODE','SOC_NAME','FULL_TIME_POSITION','PREVAILING_WAGE','WAGE_RATE_OF_PAY_FROM','WAGE_RATE_OF_PAY_TO','WAGE_UNIT_OF_PAY','H1B_DEPENDENT','WILLFUL_VIOLATOR','Year']]\n",
    "df.to_csv(csv2017,index=False)"
   ]
  },
  {
   "cell_type": "code",
   "execution_count": 0,
   "metadata": {
    "colab": {},
    "colab_type": "code",
    "id": "bEJXBaCJ3TB5"
   },
   "outputs": [],
   "source": [
    "df=pd.read_excel(excel2018)\n",
    "df['Year']='2018'\n",
    "df=df[['CASE_NUMBER','CASE_STATUS','VISA_CLASS','EMPLOYER_NAME','EMPLOYER_CITY','EMPLOYER_STATE','JOB_TITLE','SOC_CODE','SOC_NAME','FULL_TIME_POSITION','PREVAILING_WAGE','WAGE_RATE_OF_PAY_FROM','WAGE_RATE_OF_PAY_TO','WAGE_UNIT_OF_PAY','H1B_DEPENDENT','WILLFUL_VIOLATOR','Year']]\n",
    "df.to_csv(csv2018,index=False)"
   ]
  },
  {
   "cell_type": "code",
   "execution_count": 0,
   "metadata": {
    "colab": {},
    "colab_type": "code",
    "id": "2H_LtcYo3TK0"
   },
   "outputs": [],
   "source": [
    "df=pd.read_excel(excel2019)\n",
    "df['Year']='2019'\n",
    "df = df.rename(columns={'H-1B_DEPENDENT': 'H1B_DEPENDENT','PREVAILING_WAGE_1':'PREVAILING_WAGE','WAGE_RATE_OF_PAY_FROM_1':'WAGE_RATE_OF_PAY_FROM',\n",
    "                        'WAGE_RATE_OF_PAY_TO_1':'WAGE_RATE_OF_PAY_TO','WAGE_UNIT_OF_PAY_1':'WAGE_UNIT_OF_PAY','SOC_TITLE':'SOC_NAME'})\n",
    "df=df[['CASE_NUMBER','CASE_STATUS','VISA_CLASS','EMPLOYER_NAME','EMPLOYER_CITY','EMPLOYER_STATE','JOB_TITLE','SOC_CODE','SOC_NAME','FULL_TIME_POSITION','PREVAILING_WAGE','WAGE_RATE_OF_PAY_FROM','WAGE_RATE_OF_PAY_TO','WAGE_UNIT_OF_PAY','H1B_DEPENDENT','WILLFUL_VIOLATOR','Year']]\n",
    "df.to_csv(csv2019,index=False)"
   ]
  },
  {
   "cell_type": "markdown",
   "metadata": {
    "colab_type": "text",
    "id": "jybXF8eE5UcY"
   },
   "source": [
    "Step 2: Concatenated and created all the separate csv files of multiple years into one single dataframe for analysis. However, as the data we were dealing with is raw, there were many discrepancies in the data. Like one of the examples the column WAGE_UNIT_OF_PAY specifies the unit of data i.e. hourly, weekly, biweekly, monthly, Yearly for the columns “WAGE_RATE_OF_PAY_FROM” and “WAGE_RATE_OF_PAY_TO”. We created 2 new columns to store the range data on the yearly basis to make it consistent and easy to work on and later dropped the old columns. As we were focused on working on the visa Class H1B, we filtered out the other visa class from the file like “E-3 Australian”, “H-1B1 Chile”  etc. and we Concatenated all the files. This cleaner dataframe we saved into a separate csv file named OneDF.csv."
   ]
  },
  {
   "cell_type": "code",
   "execution_count": 0,
   "metadata": {
    "colab": {},
    "colab_type": "code",
    "id": "pVlvwX-cRqS-"
   },
   "outputs": [],
   "source": [
    "df_2015=pd.read_csv(csv2015, low_memory=False)\n",
    "df_2016=pd.read_csv(csv2016, low_memory=False)\n",
    "df_2017=pd.read_csv(csv2017, low_memory=False)\n",
    "df_2018=pd.read_csv(csv2018, low_memory=False)\n",
    "df_2019=pd.read_csv(csv2019, low_memory=False)"
   ]
  },
  {
   "cell_type": "code",
   "execution_count": 0,
   "metadata": {
    "colab": {},
    "colab_type": "code",
    "id": "2ZErTe16SNnC"
   },
   "outputs": [],
   "source": [
    "df_1=pd.concat([df_2015,df_2016],axis=0,sort=False)\n",
    "df_2=pd.concat([df_1,df_2017],axis=0,sort=False)\n",
    "df_3=pd.concat([df_2,df_2018],axis=0,sort=False)\n",
    "df_4=pd.concat([df_3,df_2019],axis=0,sort=False)"
   ]
  },
  {
   "cell_type": "code",
   "execution_count": 0,
   "metadata": {
    "colab": {},
    "colab_type": "code",
    "id": "qKi9KLxMSN0s"
   },
   "outputs": [],
   "source": [
    "yearly = df_4[df_4['WAGE_UNIT_OF_PAY'] == 'Year']\n",
    "monthly = df_4[df_4['WAGE_UNIT_OF_PAY'] == 'Month']\n",
    "biweekly= df_4[df_4['WAGE_UNIT_OF_PAY'] == 'Bi-Weekly']\n",
    "weekly= df_4[df_4['WAGE_UNIT_OF_PAY'] == 'Week']\n",
    "hourly= df_4[df_4['WAGE_UNIT_OF_PAY'] == 'Hour']"
   ]
  },
  {
   "cell_type": "code",
   "execution_count": 0,
   "metadata": {
    "colab": {},
    "colab_type": "code",
    "id": "VniLiOd0SN_R"
   },
   "outputs": [],
   "source": [
    "monthly['WAGE_FROM']=monthly['WAGE_RATE_OF_PAY_FROM']*12      #monthly to yearly\n",
    "monthly['WAGE_TO']=monthly['WAGE_RATE_OF_PAY_TO']*12  \n",
    "biweekly['WAGE_FROM']=biweekly['WAGE_RATE_OF_PAY_FROM']*24   #biweekly to yearly\n",
    "biweekly['WAGE_TO']=biweekly['WAGE_RATE_OF_PAY_TO']*24         \n",
    "weekly['WAGE_FROM']=weekly['WAGE_RATE_OF_PAY_FROM']*48         #Weekly to yearly\n",
    "weekly['WAGE_TO']=weekly['WAGE_RATE_OF_PAY_TO']*48     \n",
    "hourly['WAGE_FROM']=hourly['WAGE_RATE_OF_PAY_FROM']*1920       #hourly to yearly\n",
    "hourly['WAGE_TO']=hourly['WAGE_RATE_OF_PAY_TO']*1920"
   ]
  },
  {
   "cell_type": "code",
   "execution_count": 0,
   "metadata": {
    "colab": {},
    "colab_type": "code",
    "id": "GPVujEW25isv"
   },
   "outputs": [],
   "source": [
    "df_11=pd.concat([yearly,monthly],axis=0,sort=False)\n",
    "df_12=pd.concat([df_11,biweekly],axis=0,sort=False)\n",
    "df_13=pd.concat([df_12,weekly],axis=0,sort=False)\n",
    "df_14=pd.concat([df_13,hourly],axis=0,sort=False)"
   ]
  },
  {
   "cell_type": "code",
   "execution_count": 0,
   "metadata": {
    "colab": {},
    "colab_type": "code",
    "id": "kGTMdkDL5i2U"
   },
   "outputs": [],
   "source": [
    "df_14=df_14.drop(columns=['WAGE_RATE_OF_PAY_FROM','WAGE_RATE_OF_PAY_TO'],axis=1)\n",
    "H1B_data=df_14[df_14.VISA_CLASS == 'H-1B']\n",
    "H1B_data.to_csv(csvOneDF,index=False)"
   ]
  },
  {
   "cell_type": "markdown",
   "metadata": {
    "colab_type": "text",
    "id": "8gXbfHts971l"
   },
   "source": [
    "Exploratory Analysis"
   ]
  },
  {
   "cell_type": "code",
   "execution_count": 0,
   "metadata": {
    "colab": {},
    "colab_type": "code",
    "id": "eNvmA-k2SOJg"
   },
   "outputs": [],
   "source": [
    "mainDF=pd.read_csv(csvOneDF, low_memory=False)"
   ]
  },
  {
   "cell_type": "markdown",
   "metadata": {
    "colab_type": "text",
    "id": "ZiQRD6oY-Ier"
   },
   "source": [
    "1. Application distribution per year for all case status."
   ]
  },
  {
   "cell_type": "code",
   "execution_count": 19,
   "metadata": {
    "colab": {
     "base_uri": "https://localhost:8080/",
     "height": 469
    },
    "colab_type": "code",
    "id": "lrIYvGq5cfsz",
    "outputId": "00ace9c6-2ff3-4d9d-d49b-1ad0b5ae22f4"
   },
   "outputs": [
    {
     "name": "stdout",
     "output_type": "stream",
     "text": [
      "Year\n",
      "2015    605774\n",
      "2016    633935\n",
      "2017    610296\n",
      "2018    639507\n",
      "2019    649076\n",
      "Name: CASE_STATUS, dtype: int64\n"
     ]
    },
    {
     "data": {
      "image/png": "[encoded data removed]",
      "text/plain": [
       "<Figure size 360x360 with 1 Axes>"
      ]
     },
     "metadata": {
      "needs_background": "light",
      "tags": []
     },
     "output_type": "display_data"
    }
   ],
   "source": [
    "year = mainDF.groupby(['Year']).count()['CASE_STATUS']\n",
    "print(year)\n",
    "plt.figure(figsize=(5, 5))\n",
    "sns.barplot(x=year.index, y=year.values)\n",
    "plt.title('Number of H-1B Applications Year Wise')\n",
    "plt.xlabel('Year')\n",
    "plt.ylabel('Number of petitions filed')\n",
    "plt.show()"
   ]
  },
  {
   "cell_type": "markdown",
   "metadata": {
    "colab_type": "text",
    "id": "ZdBHsS40-NRP"
   },
   "source": [
    "More or less we are seeing a general trend of around 600,000 petitions every year. Apparently in the year 2017 we saw a fall in the number of petitions by around 24000 as compared to 2016 data, co-incidently that was the Year President Donald Trump took the charge after getting elected. The number again regained the growth pace in the next year i.e. 2018."
   ]
  },
  {
   "cell_type": "markdown",
   "metadata": {
    "colab_type": "text",
    "id": "Li9PiqfR-eKG"
   },
   "source": [
    "2. Application distribution per year case wise"
   ]
  },
  {
   "cell_type": "code",
   "execution_count": 21,
   "metadata": {
    "colab": {
     "base_uri": "https://localhost:8080/",
     "height": 391
    },
    "colab_type": "code",
    "id": "Uqt7p7H9cgMY",
    "outputId": "243929df-3d33-4119-c1db-88f5f2cf111e"
   },
   "outputs": [
    {
     "data": {
      "text/plain": [
       "Year  CASE_STATUS        \n",
       "2015  CERTIFIED              536693\n",
       "      CERTIFIED-WITHDRAWN     40368\n",
       "      DENIED                   9690\n",
       "      WITHDRAWN               19023\n",
       "2016  CERTIFIED              558014\n",
       "      CERTIFIED-WITHDRAWN     46294\n",
       "      DENIED                   8201\n",
       "      WITHDRAWN               21426\n",
       "2017  CERTIFIED              533621\n",
       "      CERTIFIED-WITHDRAWN     48880\n",
       "      DENIED                   7478\n",
       "      WITHDRAWN               20317\n",
       "2018  CERTIFIED              567011\n",
       "      CERTIFIED-WITHDRAWN     44145\n",
       "      DENIED                   7528\n",
       "      WITHDRAWN               20823\n",
       "2019  CERTIFIED              578639\n",
       "      CERTIFIED-WITHDRAWN     46050\n",
       "      DENIED                   5163\n",
       "      WITHDRAWN               19224\n",
       "Name: CASE_NUMBER, dtype: int64"
      ]
     },
     "execution_count": 21,
     "metadata": {
      "tags": []
     },
     "output_type": "execute_result"
    }
   ],
   "source": [
    "selectedStates = mainDF.groupby(['Year','CASE_STATUS']).count()['CASE_NUMBER']\n",
    "selectedStates\n"
   ]
  },
  {
   "cell_type": "markdown",
   "metadata": {
    "colab_type": "text",
    "id": "rxeilgw1-lLt"
   },
   "source": [
    "As we thought before, the certification rate might decrease after 2016 elections. But, the data doesn't support our assumption and the routine trend of cases getting certified is seen."
   ]
  },
  {
   "cell_type": "markdown",
   "metadata": {
    "colab_type": "text",
    "id": "05ScmVYl-qqp"
   },
   "source": [
    "3. Total petitions filed grouped by states. Table and a bar plot."
   ]
  },
  {
   "cell_type": "code",
   "execution_count": 22,
   "metadata": {
    "colab": {
     "base_uri": "https://localhost:8080/",
     "height": 1000
    },
    "colab_type": "code",
    "id": "DFMecH5mcgYn",
    "outputId": "6c1eefc6-02d1-4bdb-af1a-183a2c172726"
   },
   "outputs": [
    {
     "name": "stdout",
     "output_type": "stream",
     "text": [
      "EMPLOYER_STATE\n",
      "AK       467\n",
      "AL      6967\n",
      "AR     12494\n",
      "AS         1\n",
      "AZ     20719\n",
      "CA    525504\n",
      "CO     19433\n",
      "CT     30828\n",
      "DC     10457\n",
      "DE     12184\n",
      "FL     85921\n",
      "FM         1\n",
      "GA     84767\n",
      "GU      1722\n",
      "HI      1655\n",
      "IA     10622\n",
      "ID      3185\n",
      "IL    196260\n",
      "IN     16448\n",
      "KS      9912\n",
      "KY     11926\n",
      "LA      7025\n",
      "MA    116301\n",
      "MD    109458\n",
      "ME      2286\n",
      "MI    125633\n",
      "MN     23664\n",
      "MO     26182\n",
      "MP       988\n",
      "MS      2644\n",
      "MT       514\n",
      "NC     92929\n",
      "ND      1859\n",
      "NE      8852\n",
      "NH      5710\n",
      "NJ    413337\n",
      "NM      3911\n",
      "NV      5280\n",
      "NY    214526\n",
      "OH     47271\n",
      "OK      5611\n",
      "OR      8772\n",
      "PA    138010\n",
      "PR      1297\n",
      "PW         3\n",
      "RI      5491\n",
      "SC      8203\n",
      "SD      1234\n",
      "TN     23646\n",
      "TX    450048\n",
      "UT      9491\n",
      "VA     97543\n",
      "VI       256\n",
      "VT      2329\n",
      "WA     95806\n",
      "WI     18257\n",
      "WV      1933\n",
      "WY       691\n",
      "Name: CASE_STATUS, dtype: int64\n"
     ]
    },
    {
     "data": {
      "image/png": "[encoded data removed]",
      "text/plain": [
       "<Figure size 1440x432 with 1 Axes>"
      ]
     },
     "metadata": {
      "needs_background": "light",
      "tags": []
     },
     "output_type": "display_data"
    }
   ],
   "source": [
    "states = mainDF.groupby(['EMPLOYER_STATE']).count()['CASE_STATUS']\n",
    "print(states)\n",
    "plt.figure(figsize=(20, 6))\n",
    "sns.barplot(x=states.index, y=states.values)\n",
    "plt.xlabel('States')\n",
    "plt.ylabel('Number of petitions filed')\n",
    "plt.xticks(rotation='45')\n",
    "plt.show()"
   ]
  },
  {
   "cell_type": "markdown",
   "metadata": {
    "colab_type": "text",
    "id": "KVr9J_qS-y4c"
   },
   "source": [
    "In continuation to the above analysis, let us also look at the states which have filed more than 150,000 applications in the last five years cumulative and check their petition trend yearly, to identify if is there any sudden increase or drop of the applications. If there is a sudden increase in the petitions, there might be a possibility of sudden industrialization in that state and vice versa."
   ]
  },
  {
   "cell_type": "code",
   "execution_count": 23,
   "metadata": {
    "colab": {
     "base_uri": "https://localhost:8080/",
     "height": 896
    },
    "colab_type": "code",
    "id": "1UeWm_8CcgjL",
    "outputId": "0d07818b-7a4a-48b6-bc2a-9c271348fac2"
   },
   "outputs": [
    {
     "name": "stdout",
     "output_type": "stream",
     "text": [
      "EMPLOYER_STATE  Year\n",
      "CA              2015     96935\n",
      "                2016    101365\n",
      "                2017    101958\n",
      "                2018    109316\n",
      "                2019    115930\n",
      "IL              2015     35949\n",
      "                2016     41556\n",
      "                2017     40815\n",
      "                2018     38683\n",
      "                2019     39257\n",
      "NJ              2015     87170\n",
      "                2016     87117\n",
      "                2017     75411\n",
      "                2018     83345\n",
      "                2019     80294\n",
      "NY              2015     40247\n",
      "                2016     50648\n",
      "                2017     40417\n",
      "                2018     42024\n",
      "                2019     41190\n",
      "TX              2015     91544\n",
      "                2016     93666\n",
      "                2017     86730\n",
      "                2018     78993\n",
      "                2019     99115\n",
      "Name: CASE_NUMBER, dtype: int64\n"
     ]
    },
    {
     "data": {
      "image/png": "[encoded data removed]",
      "text/plain": [
       "<Figure size 864x432 with 1 Axes>"
      ]
     },
     "metadata": {
      "needs_background": "light",
      "tags": []
     },
     "output_type": "display_data"
    }
   ],
   "source": [
    "statesValues = states[states.values > 150000]\n",
    "stateList = [] \n",
    "stateList = statesValues.index\n",
    "selectedStates = mainDF[(mainDF['EMPLOYER_STATE'].isin(stateList))].groupby(['EMPLOYER_STATE','Year']).count()['CASE_NUMBER']\n",
    "print(selectedStates)\n",
    "plt.figure(figsize=(12, 6))\n",
    "ax = sns.barplot(x=selectedStates.index, y=selectedStates.values)\n",
    "for i, bar in enumerate(ax.patches):\n",
    "    bar.set_color(\"C{}\".format(int(i/5)))\n",
    "plt.xlabel('States data yearwise')\n",
    "plt.ylabel('Number of petitions filed')\n",
    "plt.xticks(rotation='90')\n",
    "plt.show()"
   ]
  },
  {
   "cell_type": "markdown",
   "metadata": {
    "colab_type": "text",
    "id": "v3n747K3-535"
   },
   "source": [
    "In the above bar charts, we are not seeing any remarkable changes except for a  few things that we noticed are \n",
    "1) The states of California, Texas and New Jersey are the top 3 states in terms of applications. \n",
    "2) In the year 2017 and 2018 the number of petitions done from the state of Texas had fallen, however it regained nearly the same strength by 2019.\n",
    "3) The number of petitions for the State of California are increasing every year, indicating California being an obvious choice of the employers."
   ]
  },
  {
   "cell_type": "markdown",
   "metadata": {
    "colab_type": "text",
    "id": "R1vglLHq_EG9"
   },
   "source": [
    "4. Identifying the CERTIFIED and DENIED cases for these states. (For the states with applications more than 150k)."
   ]
  },
  {
   "cell_type": "code",
   "execution_count": 24,
   "metadata": {
    "colab": {
     "base_uri": "https://localhost:8080/",
     "height": 672
    },
    "colab_type": "code",
    "id": "29oZA7G1djqu",
    "outputId": "3b64f370-651a-45f5-d794-f09ca3fb1c8e"
   },
   "outputs": [
    {
     "name": "stdout",
     "output_type": "stream",
     "text": [
      "EMPLOYER_STATE  CASE_STATUS\n",
      "CA              CERTIFIED      458173\n",
      "                DENIED           7114\n",
      "IL              CERTIFIED      176764\n",
      "                DENIED           1883\n",
      "NJ              CERTIFIED      373341\n",
      "                DENIED           3128\n",
      "NY              CERTIFIED      187021\n",
      "                DENIED           3697\n",
      "TX              CERTIFIED      406826\n",
      "                DENIED           3578\n",
      "Name: CASE_NUMBER, dtype: int64\n"
     ]
    },
    {
     "data": {
      "image/png": "[encoded data removed]",
      "text/plain": [
       "<Figure size 432x432 with 1 Axes>"
      ]
     },
     "metadata": {
      "needs_background": "light",
      "tags": []
     },
     "output_type": "display_data"
    }
   ],
   "source": [
    "statesValues = states[states.values > 150000]\n",
    "stateList = [] \n",
    "stateList = statesValues.index\n",
    "selectedStates = mainDF[(mainDF['EMPLOYER_STATE'].isin(stateList)) & ((mainDF['CASE_STATUS'] == 'CERTIFIED') | (mainDF['CASE_STATUS'] == 'DENIED'))].groupby(['EMPLOYER_STATE','CASE_STATUS']).count()['CASE_NUMBER']\n",
    "print(selectedStates)\n",
    "plt.figure(figsize=(6, 6))\n",
    "ax = sns.barplot(x=selectedStates.index, y=selectedStates.values)\n",
    "for i, bar in enumerate(ax.patches):\n",
    "    bar.set_color(\"C{}\".format(int(i/2)))\n",
    "plt.xlabel('States data yearwise')\n",
    "plt.ylabel('Number of petitions filed')\n",
    "plt.xticks(rotation='90')\n",
    "plt.show()"
   ]
  },
  {
   "cell_type": "markdown",
   "metadata": {
    "colab_type": "text",
    "id": "1u7zcwJ0_JY5"
   },
   "source": [
    "There is some obvious output here, the state with maximum number of applications is definitely going to have maximum CERTIFIED as well as maximum DENIED. The point of doing this analysis is we see a situation where in the number of application from the state of New York is half the number of applications of New Jersey and Texas. Yet the DENIED count for New York is 2854 which is more than New Jersey and Texas."
   ]
  },
  {
   "cell_type": "markdown",
   "metadata": {
    "colab_type": "text",
    "id": "aayrMone_Kmc"
   },
   "source": [
    "5. Case Status based analysis. Here we will identify the outcome of the petition for the following output case_status CERTIFIED, CERTIFIED-WITHDRAWN, DENIED, WITHDRAWN."
   ]
  },
  {
   "cell_type": "code",
   "execution_count": 25,
   "metadata": {
    "colab": {
     "base_uri": "https://localhost:8080/",
     "height": 411
    },
    "colab_type": "code",
    "id": "15puajGB_A9x",
    "outputId": "3faf5550-2ea7-45dc-d514-ec629e7e1038"
   },
   "outputs": [
    {
     "data": {
      "image/png": "[encoded data removed]",
      "text/plain": [
       "<Figure size 5400x504 with 1 Axes>"
      ]
     },
     "metadata": {
      "tags": []
     },
     "output_type": "display_data"
    }
   ],
   "source": [
    "case_status = mainDF['CASE_STATUS'].value_counts()\n",
    "plot = case_status.plot.pie(subplots=True, autopct='%1.0f%%', figsize=(75, 7))"
   ]
  },
  {
   "cell_type": "markdown",
   "metadata": {
    "colab_type": "text",
    "id": "VG8B5BBz_Tis"
   },
   "source": [
    "Apparently, Denial rate is approx. 1%. of the total applications made and Certified rate is around 88% of the total applications made."
   ]
  },
  {
   "cell_type": "markdown",
   "metadata": {
    "colab_type": "text",
    "id": "X7GMcirN_UzN"
   },
   "source": [
    "6. How many applications were made for a Full time Jobs or a Part time Job. "
   ]
  },
  {
   "cell_type": "code",
   "execution_count": 26,
   "metadata": {
    "colab": {
     "base_uri": "https://localhost:8080/",
     "height": 54
    },
    "colab_type": "code",
    "id": "_KMQ26Ps_BHq",
    "outputId": "d792cc1e-cebd-4b08-b739-37888e7bbbc3"
   },
   "outputs": [
    {
     "name": "stdout",
     "output_type": "stream",
     "text": [
      "Out of the total 2504647 applications Fulltime / Partime Jobs data available, 2453547 applications were for fulltime Jobs and 51100 applications were for parttime Jobs\n"
     ]
    }
   ],
   "source": [
    "fulltimeDF=mainDF.dropna(subset = [\"FULL_TIME_POSITION\"])\n",
    "fulltimeJobs = fulltimeDF[fulltimeDF.FULL_TIME_POSITION=='Y']\n",
    "parttimeJobs = fulltimeDF[fulltimeDF.FULL_TIME_POSITION=='N']\n",
    "print(\"Out of the total \"+ str(fulltimeDF.shape[0]) +\" applications Fulltime / Partime Jobs data available, \"+ str(fulltimeJobs.shape[0]) +\" applications were for fulltime Jobs and \"+ str(parttimeJobs.shape[0]) + \" applications were for parttime Jobs\")"
   ]
  },
  {
   "cell_type": "markdown",
   "metadata": {
    "colab_type": "text",
    "id": "f3IP3yIs_ga3"
   },
   "source": [
    "There are around 2% H1B petitions done for Part Time Jobs.  "
   ]
  },
  {
   "cell_type": "markdown",
   "metadata": {
    "colab_type": "text",
    "id": "YsWYL1yV_hw4"
   },
   "source": [
    "7. Top 10 employer with largest number of applications"
   ]
  },
  {
   "cell_type": "code",
   "execution_count": 27,
   "metadata": {
    "colab": {
     "base_uri": "https://localhost:8080/",
     "height": 616
    },
    "colab_type": "code",
    "id": "0vaKELBB_BQ3",
    "outputId": "0dbad3de-a275-4f8e-b55e-36d075e16b15"
   },
   "outputs": [
    {
     "data": {
      "image/png": "[encoded data removed]",
      "text/plain": [
       "<Figure size 432x432 with 1 Axes>"
      ]
     },
     "metadata": {
      "needs_background": "light",
      "tags": []
     },
     "output_type": "display_data"
    }
   ],
   "source": [
    "companies = mainDF['EMPLOYER_NAME'].value_counts().nlargest(10)\n",
    "plt.figure(figsize=(6, 6))\n",
    "sns.barplot(x=companies.index, y=companies.values)\n",
    "plt.xlabel('Employer Name')\n",
    "plt.ylabel('Number of petitions filed')\n",
    "plt.xticks(rotation='90')\n",
    "plt.show()"
   ]
  },
  {
   "cell_type": "markdown",
   "metadata": {
    "colab_type": "text",
    "id": "BWBDSwg7_p67"
   },
   "source": [
    "Infosys Limited and Tata Consultancy Services Limited are the highest petition filers based on past 5 years data."
   ]
  },
  {
   "cell_type": "markdown",
   "metadata": {
    "colab_type": "text",
    "id": "EcEy01P4_reJ"
   },
   "source": [
    "8. Top 10 Highest paying employers and their respective Job Titles."
   ]
  },
  {
   "cell_type": "code",
   "execution_count": 28,
   "metadata": {
    "colab": {
     "base_uri": "https://localhost:8080/",
     "height": 1000
    },
    "colab_type": "code",
    "id": "vY9z6DZx_BbG",
    "outputId": "a8248538-e21f-408a-8bbd-c2103ce1b4a7"
   },
   "outputs": [
    {
     "name": "stdout",
     "output_type": "stream",
     "text": [
      "         PREVAILING_WAGE  ...                                     JOB_TITLE\n",
      "450337         9110400.0  ...                             SOFTWARE ENGINEER\n",
      "302062         8490600.0  ...                              DEV/OPS ENGINEER\n",
      "253679         1144000.0  ...         SENIOR BACKEND ENGINEER - AD PLATFORM\n",
      "1606779        1112218.0  ...  SENIOR CONSULTANT (SENIOR SOFTWARE ENGINEER)\n",
      "1613081        1092533.0  ...                              PROCESS ENGINEER\n",
      "1353255        1000942.0  ...                      SOFTWARE DESIGN ENGINEER\n",
      "1675082         976656.0  ...                            SENIOR QA ENGINEER\n",
      "1665643         969280.0  ...                    SYSTEMS SOFTWARE DEVELOPER\n",
      "1786989         896150.0  ...                CLOUD PATH AWS PROGRAM MANAGER\n",
      "520067          880005.0  ...                      SENIOR SOFTWARE ENGINEER\n",
      "\n",
      "[10 rows x 3 columns]\n"
     ]
    },
    {
     "data": {
      "text/plain": [
       "<Figure size 864x720 with 0 Axes>"
      ]
     },
     "metadata": {
      "tags": []
     },
     "output_type": "display_data"
    },
    {
     "data": {
      "image/png": "[encoded data removed]",
      "text/plain": [
       "<Figure size 360x360 with 1 Axes>"
      ]
     },
     "metadata": {
      "needs_background": "light",
      "tags": []
     },
     "output_type": "display_data"
    },
    {
     "data": {
      "image/png": "[encoded data removed]",
      "text/plain": [
       "<Figure size 360x360 with 1 Axes>"
      ]
     },
     "metadata": {
      "needs_background": "light",
      "tags": []
     },
     "output_type": "display_data"
    }
   ],
   "source": [
    "fig = plt.figure(figsize=(12,10), facecolor='white')\n",
    "#The top three values for prevailing wages are very high indicating some outlier occurence in the data.\n",
    "#Hence ignoring the top 3 values.\n",
    "company_highsalary = mainDF.sort_values(by='PREVAILING_WAGE', ascending=False).head(13)\n",
    "company_highsalary = company_highsalary[['PREVAILING_WAGE','EMPLOYER_NAME','JOB_TITLE']]\n",
    "company_highsalary = company_highsalary.iloc[3:]\n",
    "print(company_highsalary)\n",
    "plt.figure(figsize=(5, 5))\n",
    "sns.barplot(x=company_highsalary.EMPLOYER_NAME, y=company_highsalary.PREVAILING_WAGE)\n",
    "plt.xlabel('Employer Name')\n",
    "plt.ylabel('Prevailing wage')\n",
    "plt.xticks(rotation='90')\n",
    "plt.figure(figsize=(5, 5))\n",
    "sns.barplot(x=company_highsalary.JOB_TITLE, y=company_highsalary.PREVAILING_WAGE)\n",
    "plt.xlabel('Job Title')\n",
    "plt.ylabel('Prevailing wage')\n",
    "plt.xticks(rotation='90')\n",
    "plt.show()"
   ]
  },
  {
   "cell_type": "markdown",
   "metadata": {
    "colab_type": "text",
    "id": "OQC9inJA_6Ny"
   },
   "source": [
    "The highest paying jobs are amongst the technology companies with the Jobs in Software Engineering domain. The highest petition filing employers are considerably different from highest paying employers."
   ]
  },
  {
   "cell_type": "markdown",
   "metadata": {
    "colab_type": "text",
    "id": "hGkYugQW_7qj"
   },
   "source": [
    "9. Top 10 cities with highest number of petitions filed."
   ]
  },
  {
   "cell_type": "code",
   "execution_count": 29,
   "metadata": {
    "colab": {
     "base_uri": "https://localhost:8080/",
     "height": 656
    },
    "colab_type": "code",
    "id": "EHtW_2lHdmJq",
    "outputId": "d7d9730d-f033-4315-c801-befcbc6aa691"
   },
   "outputs": [
    {
     "name": "stdout",
     "output_type": "stream",
     "text": [
      "NEW YORK           151721\n",
      "PLANO              137704\n",
      "CHICAGO            114441\n",
      "ROCKVILLE           74134\n",
      "PHILADELPHIA        69801\n",
      "EDISON              68428\n",
      "DURHAM              56541\n",
      "COLLEGE STATION     55366\n",
      "SAN FRANCISCO       55206\n",
      "HOUSTON             50035\n",
      "Name: EMPLOYER_CITY, dtype: int64\n"
     ]
    },
    {
     "data": {
      "image/png": "[encoded data removed]",
      "text/plain": [
       "<Figure size 432x432 with 1 Axes>"
      ]
     },
     "metadata": {
      "needs_background": "light",
      "tags": []
     },
     "output_type": "display_data"
    }
   ],
   "source": [
    "top_cities = mainDF['EMPLOYER_CITY'].value_counts()[:10]\n",
    "print(top_cities)\n",
    "plt.figure(figsize=(6, 6))\n",
    "sns.barplot(x=top_cities.index, y=top_cities.values)\n",
    "plt.xlabel('City')\n",
    "plt.ylabel('Number of petitions filed')\n",
    "plt.xticks(rotation='90')\n",
    "plt.show()"
   ]
  },
  {
   "cell_type": "markdown",
   "metadata": {
    "colab_type": "text",
    "id": "ZbwKFP3XAC0r"
   },
   "source": [
    "As seen in Question 3, the entire New York State has 214526 application in past 5 years, out of which NewYork City accounts for 114008 applications in the same tenure."
   ]
  },
  {
   "cell_type": "markdown",
   "metadata": {
    "colab_type": "text",
    "id": "SrNorMtXAEM4"
   },
   "source": [
    "10. Top 10 most trending Jobs in the petitions filed past 5 years"
   ]
  },
  {
   "cell_type": "code",
   "execution_count": 30,
   "metadata": {
    "colab": {
     "base_uri": "https://localhost:8080/",
     "height": 204
    },
    "colab_type": "code",
    "id": "543Ib0bedqvu",
    "outputId": "c359a668-8000-44b4-8222-e2c0825d0a88"
   },
   "outputs": [
    {
     "data": {
      "text/plain": [
       "PROGRAMMER ANALYST          172841\n",
       "SOFTWARE ENGINEER           150752\n",
       "SOFTWARE DEVELOPER          109413\n",
       "SYSTEMS ANALYST              44126\n",
       "COMPUTER PROGRAMMER          37295\n",
       "SENIOR SOFTWARE ENGINEER     35775\n",
       "BUSINESS ANALYST             34016\n",
       "COMPUTER SYSTEMS ANALYST     26338\n",
       "DEVELOPER                    26205\n",
       "ASSISTANT PROFESSOR          25299\n",
       "Name: JOB_TITLE, dtype: int64"
      ]
     },
     "execution_count": 30,
     "metadata": {
      "tags": []
     },
     "output_type": "execute_result"
    }
   ],
   "source": [
    "popular_job=mainDF['JOB_TITLE'].value_counts().nlargest(10)\n",
    "popular_job"
   ]
  },
  {
   "cell_type": "markdown",
   "metadata": {
    "colab_type": "text",
    "id": "f1ci6LUsAKHP"
   },
   "source": [
    "The Job Titles PROGRAMMER ANALYST, SOFTWARE ENGINEER and SOFTWARE DEVELOPER are the top 3 most trending jobs seen among the H1B petitions filed."
   ]
  },
  {
   "cell_type": "markdown",
   "metadata": {
    "colab_type": "text",
    "id": "d0e68B03AKid"
   },
   "source": [
    "11. Most common job titles which are DENIED."
   ]
  },
  {
   "cell_type": "code",
   "execution_count": 31,
   "metadata": {
    "colab": {
     "base_uri": "https://localhost:8080/",
     "height": 221
    },
    "colab_type": "code",
    "id": "4ZZH409-dttN",
    "outputId": "9db3c22f-a9bf-42a6-ed3c-82a64e62ed59"
   },
   "outputs": [
    {
     "data": {
      "text/plain": [
       "JOB_TITLE\n",
       "PROGRAMMER ANALYST          1493\n",
       "SOFTWARE ENGINEER           1302\n",
       "SOFTWARE DEVELOPER           912\n",
       "ACCOUNTANT                   446\n",
       "COMPUTER PROGRAMMER          394\n",
       "BUSINESS ANALYST             339\n",
       "SENIOR SOFTWARE ENGINEER     331\n",
       "COMPUTER SYSTEMS ANALYST     318\n",
       "SYSTEMS ANALYST              317\n",
       "ASSISTANT PROFESSOR          301\n",
       "Name: CASE_NUMBER, dtype: int64"
      ]
     },
     "execution_count": 31,
     "metadata": {
      "tags": []
     },
     "output_type": "execute_result"
    }
   ],
   "source": [
    "selectedStates = mainDF[(mainDF['CASE_STATUS'] == 'DENIED')].groupby(['JOB_TITLE']).count()['CASE_NUMBER']\n",
    "selectedStates.nlargest(10)"
   ]
  },
  {
   "cell_type": "markdown",
   "metadata": {
    "colab_type": "text",
    "id": "X2SBpoM8AY4n"
   },
   "source": [
    "The Job titles with the highest number of applications are in a way the top jobs with the high rate of Denied. So as such there doesn't seem any good linkage between a specific Job_Title and case getting 'DENIED'. A specific Job_Title ACCOUNTANT seen with some good amount of Denied, however ACCOUNTANT Job_Title is not seen amongst the top 10 trending, Job_Titles giving some hints about the high denial Ratio However, not that conclusive.                 "
   ]
  },
  {
   "cell_type": "markdown",
   "metadata": {
    "colab_type": "text",
    "id": "oj2HCYwvAZZp"
   },
   "source": [
    "12. Understanding the relation between Denied Cases and the job being Full Time / Part Time "
   ]
  },
  {
   "cell_type": "code",
   "execution_count": 32,
   "metadata": {
    "colab": {
     "base_uri": "https://localhost:8080/",
     "height": 85
    },
    "colab_type": "code",
    "id": "dXWjp0j1d0rF",
    "outputId": "f91c8d87-832a-43a0-acbf-30549338e7b7"
   },
   "outputs": [
    {
     "name": "stdout",
     "output_type": "stream",
     "text": [
      "Total denied cases : 38060\n",
      "Total denied cases with data about Full Time / Part Time Jobs : 29854\n",
      "Total denied cases with Full Time Jobs : 28158\n",
      "Total denied cases with Part Time Jobs : 1696\n"
     ]
    }
   ],
   "source": [
    "fulltimeDF = mainDF[mainDF.CASE_STATUS=='DENIED']\n",
    "print(\"Total denied cases : \"+str(fulltimeDF.shape[0]))\n",
    "fulltimeDF=fulltimeDF.dropna(subset = [\"FULL_TIME_POSITION\"])\n",
    "print(\"Total denied cases with data about Full Time / Part Time Jobs : \"+str(fulltimeDF.shape[0]))\n",
    "fulltimeJobs = fulltimeDF[fulltimeDF.FULL_TIME_POSITION=='Y']\n",
    "print(\"Total denied cases with Full Time Jobs : \"+str(fulltimeJobs.shape[0]))\n",
    "parttimeJobs = fulltimeDF[fulltimeDF.FULL_TIME_POSITION=='N']\n",
    "print(\"Total denied cases with Part Time Jobs : \"+str(parttimeJobs.shape[0]))"
   ]
  },
  {
   "cell_type": "markdown",
   "metadata": {
    "colab_type": "text",
    "id": "nRItBeLdAhOn"
   },
   "source": [
    "There is no conclusive resembalance between the cases getting denied and job being full time or part time."
   ]
  },
  {
   "cell_type": "markdown",
   "metadata": {
    "colab_type": "text",
    "id": "xHUTfRcdAhoG"
   },
   "source": [
    "13. Understanding the trend of the Software Engineer Jobs among all the applications past 5 years. "
   ]
  },
  {
   "cell_type": "code",
   "execution_count": 33,
   "metadata": {
    "colab": {
     "base_uri": "https://localhost:8080/",
     "height": 136
    },
    "colab_type": "code",
    "id": "j5_JGBfQeMNu",
    "outputId": "425b2f71-fa57-41a8-f0ad-9d1f447d66f2"
   },
   "outputs": [
    {
     "data": {
      "text/plain": [
       "Year\n",
       "2015    26899\n",
       "2016    30287\n",
       "2017    27636\n",
       "2018    31626\n",
       "2019    34304\n",
       "Name: JOB_TITLE, dtype: int64"
      ]
     },
     "execution_count": 33,
     "metadata": {
      "tags": []
     },
     "output_type": "execute_result"
    }
   ],
   "source": [
    "SoftwareEngg = mainDF[['JOB_TITLE','Year']][mainDF['JOB_TITLE'] == \"SOFTWARE ENGINEER\"].groupby('Year').count()['JOB_TITLE']\n",
    "SoftwareEngg"
   ]
  },
  {
   "cell_type": "markdown",
   "metadata": {
    "colab_type": "text",
    "id": "HW4_m60JAsgm"
   },
   "source": [
    "Software Engineer Job applications have increased by 27.52% from 2015 to 2019. As impacted by the reduction in the overall applications done in the year 2017, SOFTWARE ENGINEER Job Title applications also saw a reduction in terms of H1B petition applications in the year 2017."
   ]
  },
  {
   "cell_type": "markdown",
   "metadata": {
    "colab_type": "text",
    "id": "PuJE4riWAs4W"
   },
   "source": [
    "14. Understanding the trend of the Data Scientist Jobs among all the applications past 5 years. "
   ]
  },
  {
   "cell_type": "code",
   "execution_count": 34,
   "metadata": {
    "colab": {
     "base_uri": "https://localhost:8080/",
     "height": 136
    },
    "colab_type": "code",
    "id": "JNlDDz52eSHX",
    "outputId": "0b14e691-bb6d-4b72-b890-3f07e4c8214f"
   },
   "outputs": [
    {
     "data": {
      "text/plain": [
       "Year\n",
       "2015     564\n",
       "2016     897\n",
       "2017    1296\n",
       "2018    2237\n",
       "2019    2678\n",
       "Name: JOB_TITLE, dtype: int64"
      ]
     },
     "execution_count": 34,
     "metadata": {
      "tags": []
     },
     "output_type": "execute_result"
    }
   ],
   "source": [
    "DataScientist = mainDF[['JOB_TITLE','Year']][mainDF['JOB_TITLE'] == \"DATA SCIENTIST\"].groupby('Year').count()['JOB_TITLE']\n",
    "DataScientist"
   ]
  },
  {
   "cell_type": "markdown",
   "metadata": {
    "colab_type": "text",
    "id": "ZrGxdWCEA1hp"
   },
   "source": [
    "Data Scientist Job applications have increased by 374.82% from 2015 to 2019.  Reason might be that the jobs are in increasing demand in the past 5 years and along with this increase in demand, the need of foreign labour is also seeing a rise."
   ]
  },
  {
   "cell_type": "markdown",
   "metadata": {
    "colab_type": "text",
    "id": "4hOUTXayA17z"
   },
   "source": [
    "15. SOFTWARE ENGINEER jobs in California in 2019 with the minimum yearly wage. "
   ]
  },
  {
   "cell_type": "code",
   "execution_count": 43,
   "metadata": {
    "colab": {
     "base_uri": "https://localhost:8080/",
     "height": 51
    },
    "colab_type": "code",
    "id": "M8Ifz8LFeU1p",
    "outputId": "7c859da3-5712-46b3-f2ba-ee9416740d82"
   },
   "outputs": [
    {
     "data": {
      "text/plain": [
       "WAGE_FROM    60000.0\n",
       "dtype: float64"
      ]
     },
     "execution_count": 43,
     "metadata": {
      "tags": []
     },
     "output_type": "execute_result"
    }
   ],
   "source": [
    "SE_CA_2019 = mainDF[['WAGE_FROM','WAGE_TO']][(mainDF['JOB_TITLE'] == 'SOFTWARE ENGINEER') & (mainDF['Year'] == 2019) & (mainDF['EMPLOYER_STATE'] == 'CA')]\n",
    "SE_CA_2019.min()"
   ]
  },
  {
   "cell_type": "markdown",
   "metadata": {
    "colab_type": "text",
    "id": "Fo5d1RG7cQHx"
   },
   "source": [
    "Minimum yearly wage that a Software Engineer gets in the state of California is 60000."
   ]
  },
  {
   "cell_type": "markdown",
   "metadata": {
    "colab_type": "text",
    "id": "CxswBgodcXNw"
   },
   "source": [
    "Let's check the same for Data Scientist."
   ]
  },
  {
   "cell_type": "code",
   "execution_count": 45,
   "metadata": {
    "colab": {
     "base_uri": "https://localhost:8080/",
     "height": 51
    },
    "colab_type": "code",
    "id": "kS0XkTDKeVGC",
    "outputId": "13e4b3d2-d3a8-4f45-c8c5-05694e097037"
   },
   "outputs": [
    {
     "data": {
      "text/plain": [
       "WAGE_FROM    68544.0\n",
       "dtype: float64"
      ]
     },
     "execution_count": 45,
     "metadata": {
      "tags": []
     },
     "output_type": "execute_result"
    }
   ],
   "source": [
    "DS_CA_2019= mainDF[['WAGE_FROM','WAGE_TO']][(mainDF['JOB_TITLE'] == 'DATA SCIENTIST') & (mainDF['Year'] == 2019) & (mainDF['EMPLOYER_STATE'] == 'CA')]\n",
    "DS_CA_2019.min()"
   ]
  },
  {
   "cell_type": "markdown",
   "metadata": {
    "colab_type": "text",
    "id": "jSpFiPgFc2An"
   },
   "source": [
    "Minimum yearly wage that a Data Scientist gets in the state of California is 68544.0"
   ]
  },
  {
   "cell_type": "markdown",
   "metadata": {
    "colab_type": "text",
    "id": "POQlBL1KdByY"
   },
   "source": [
    "16. Prediction for the Software Engineer job petitions"
   ]
  },
  {
   "cell_type": "code",
   "execution_count": 46,
   "metadata": {
    "colab": {
     "base_uri": "https://localhost:8080/",
     "height": 350
    },
    "colab_type": "code",
    "id": "Ury5mbtRc0hV",
    "outputId": "8b7d1fb3-626a-471d-e7f9-3560d9b9d679"
   },
   "outputs": [
    {
     "data": {
      "image/png": "[encoded data removed]",
      "text/plain": [
       "<Figure size 504x360 with 1 Axes>"
      ]
     },
     "metadata": {
      "needs_background": "light",
      "tags": []
     },
     "output_type": "display_data"
    }
   ],
   "source": [
    "sej = mainDF[['JOB_TITLE','Year']][mainDF['JOB_TITLE'] == \"SOFTWARE ENGINEER\"].groupby('Year').count()['JOB_TITLE']\n",
    "X = np.array(sej.index)\n",
    "Y = sej.values\n",
    "def func(x, a, b, c):\n",
    "    return a*np.power(x-2015,b)+c\n",
    "\n",
    "popt, pcov = curve_fit(func, X, Y)\n",
    "X1 = np.linspace(2015,2021,9)\n",
    "X2 = np.linspace(2019,2021,3)\n",
    "X3 = np.linspace(2020,2021,2)\n",
    "fig = plt.figure(figsize=(7,5))\n",
    "plt.scatter(list(sej.index), sej.values, c='C0', marker='o', s=120, label='Data')\n",
    "plt.plot(X1, func(X1,*popt), color='C0', label='')\n",
    "plt.plot(X2, func(X2,*popt), color='C5', linewidth=3, marker='s', markersize=1)\n",
    "plt.plot(X3, func(X3,*popt), color='C5', marker='s', markersize=10, label='Prediction')\n",
    "plt.legend()\n",
    "plt.title('Number of Software Engineer Jobs')\n",
    "plt.xlabel('Year')\n",
    "plt.show()"
   ]
  },
  {
   "cell_type": "markdown",
   "metadata": {
    "colab_type": "text",
    "id": "BgdsxlYYdFgs"
   },
   "source": [
    "There will be around 47500 petitions for Software Engineer in the year 2021. (Unless COVID-19 affects this model.)"
   ]
  },
  {
   "cell_type": "markdown",
   "metadata": {
    "colab_type": "text",
    "id": "hwoUvBRidF99"
   },
   "source": [
    "18. Prediction for the Data Scientist Job petitions "
   ]
  },
  {
   "cell_type": "code",
   "execution_count": 47,
   "metadata": {
    "colab": {
     "base_uri": "https://localhost:8080/",
     "height": 350
    },
    "colab_type": "code",
    "id": "9STXi1oZdERD",
    "outputId": "d2568db0-e20b-45f6-e9fd-fb826c3539ce"
   },
   "outputs": [
    {
     "data": {
      "image/png": "[encoded data removed]",
      "text/plain": [
       "<Figure size 504x360 with 1 Axes>"
      ]
     },
     "metadata": {
      "needs_background": "light",
      "tags": []
     },
     "output_type": "display_data"
    }
   ],
   "source": [
    "dsj = mainDF[['JOB_TITLE','Year']][mainDF['JOB_TITLE'] == \"DATA SCIENTIST\"].groupby('Year').count()['JOB_TITLE']\n",
    "X = np.array(dsj.index)\n",
    "Y = dsj.values\n",
    "def func(x, a, b, c):\n",
    "    return a*np.power(x-2015,b)+c\n",
    "\n",
    "popt, pcov = curve_fit(func, X, Y)\n",
    "X1 = np.linspace(2015,2021,9)\n",
    "X2 = np.linspace(2019,2021,3)\n",
    "X3 = np.linspace(2020,2021,2)\n",
    "fig = plt.figure(figsize=(7,5))\n",
    "plt.scatter(list(dsj.index), dsj.values, c='C0', marker='o', s=120, label='Data')\n",
    "plt.plot(X1, func(X1,*popt), color='C0', label='')\n",
    "plt.plot(X2, func(X2,*popt), color='C5', linewidth=3, marker='s', markersize=1)\n",
    "plt.plot(X3, func(X3,*popt), color='C5', marker='s', markersize=10, label='Prediction')\n",
    "plt.legend()\n",
    "plt.title('Number of Data Scientist Jobs')\n",
    "plt.xlabel('Year')\n",
    "plt.show()"
   ]
  },
  {
   "cell_type": "markdown",
   "metadata": {
    "colab_type": "text",
    "id": "g2rIfZZadNll"
   },
   "source": [
    "The prediction model tells us there will be almost 4500 Data Science job petitions in 2021. (Unless COVID-19 affects this model.)"
   ]
  },
  {
   "cell_type": "markdown",
   "metadata": {},
   "source": [
    "95/100\n",
    "Any overall conclusions?"
   ]
  },
  {
   "cell_type": "code",
   "execution_count": null,
   "metadata": {},
   "outputs": [],
   "source": []
  }
 ],
 "metadata": {
  "colab": {
   "collapsed_sections": [],
   "name": "H-1B Visa Petition Analysis.ipynb",
   "provenance": []
  },
  "kernelspec": {
   "display_name": "Python 3",
   "language": "python",
   "name": "python3"
  },
  "language_info": {
   "codemirror_mode": {
    "name": "ipython",
    "version": 3
   },
   "file_extension": ".py",
   "mimetype": "text/x-python",
   "name": "python",
   "nbconvert_exporter": "python",
   "pygments_lexer": "ipython3",
   "version": "3.7.4"
  }
 },
 "nbformat": 4,
 "nbformat_minor": 1
}
